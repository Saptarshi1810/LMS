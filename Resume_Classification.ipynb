{
  "metadata": {
    "kernelspec": {
      "language": "python",
      "display_name": "Python 3",
      "name": "python3"
    },
    "language_info": {
      "pygments_lexer": "ipython3",
      "nbconvert_exporter": "python",
      "version": "3.6.4",
      "file_extension": ".py",
      "codemirror_mode": {
        "name": "ipython",
        "version": 3
      },
      "name": "python",
      "mimetype": "text/x-python"
    },
    "colab": {
      "name": "Resume Classification using BERT",
      "provenance": [],
      "include_colab_link": true
    }
  },
  "nbformat_minor": 0,
  "nbformat": 4,
  "cells": [
    {
      "cell_type": "markdown",
      "metadata": {
        "id": "view-in-github",
        "colab_type": "text"
      },
      "source": [
        "<a href=\"https://colab.research.google.com/github/Saptarshi1810/LMS/blob/main/Resume_Classification.ipynb\" target=\"_parent\"><img src=\"https://colab.research.google.com/assets/colab-badge.svg\" alt=\"Open In Colab\"/></a>"
      ]
    },
    {
      "source": [
        "\n",
        "import os\n",
        "import sys\n",
        "from tempfile import NamedTemporaryFile\n",
        "from urllib.request import urlopen\n",
        "from urllib.parse import unquote, urlparse\n",
        "from urllib.error import HTTPError\n",
        "from zipfile import ZipFile\n",
        "import tarfile\n",
        "import shutil\n",
        "\n",
        "CHUNK_SIZE = 40960\n",
        "DATA_SOURCE_MAPPING = 'updated-resume-dataset:https%3A%2F%2Fstorage.googleapis.com%2Fkaggle-data-sets%2F1904900%2F3124249%2Fbundle%2Farchive.zip%3FX-Goog-Algorithm%3DGOOG4-RSA-SHA256%26X-Goog-Credential%3Dgcp-kaggle-com%2540kaggle-161607.iam.gserviceaccount.com%252F20240327%252Fauto%252Fstorage%252Fgoog4_request%26X-Goog-Date%3D20240327T140321Z%26X-Goog-Expires%3D259200%26X-Goog-SignedHeaders%3Dhost%26X-Goog-Signature%3D597881bd3826adac66b783c2b7937d9da4da125a35f44d64e10fbb4cf99e40fa32992370b6b7413af486cd6de5ec890b7a04c548fc13b4f47144ef7b8f0a196455f07bda355efb2b350036d16d6b4a61ed54bb2e40ae17e930d2b01b8a89267a2d22cf1db3c02dc4ca5deb961de43c07a532432d0bfa3f7ab30b7c0c1f61c5604e1d3c94c2669bf73baf8e3fbd56844674c0df3fdb5a2657c3b7e9975b62fc16f4aec14fcad6f9991318a0e4ff936bb682bdb6d5625a63d69ceab1d09789b47948630bc6b1afa6bb4525380c0182bd5f43eed106efc6a1508948f293b239f6bdaf708c580251c35a5b06d0a9afdfdd53baf2ca95a40485b8d9834005c60d49e5'\n",
        "\n",
        "KAGGLE_INPUT_PATH='/kaggle/input'\n",
        "KAGGLE_WORKING_PATH='/kaggle/working'\n",
        "KAGGLE_SYMLINK='kaggle'\n",
        "\n",
        "!umount /kaggle/input/ 2> /dev/null\n",
        "shutil.rmtree('/kaggle/input', ignore_errors=True)\n",
        "os.makedirs(KAGGLE_INPUT_PATH, 0o777, exist_ok=True)\n",
        "os.makedirs(KAGGLE_WORKING_PATH, 0o777, exist_ok=True)\n",
        "\n",
        "try:\n",
        "  os.symlink(KAGGLE_INPUT_PATH, os.path.join(\"..\", 'input'), target_is_directory=True)\n",
        "except FileExistsError:\n",
        "  pass\n",
        "try:\n",
        "  os.symlink(KAGGLE_WORKING_PATH, os.path.join(\"..\", 'working'), target_is_directory=True)\n",
        "except FileExistsError:\n",
        "  pass\n",
        "\n",
        "for data_source_mapping in DATA_SOURCE_MAPPING.split(','):\n",
        "    directory, download_url_encoded = data_source_mapping.split(':')\n",
        "    download_url = unquote(download_url_encoded)\n",
        "    filename = urlparse(download_url).path\n",
        "    destination_path = os.path.join(KAGGLE_INPUT_PATH, directory)\n",
        "    try:\n",
        "        with urlopen(download_url) as fileres, NamedTemporaryFile() as tfile:\n",
        "            total_length = fileres.headers['content-length']\n",
        "            print(f'Downloading {directory}, {total_length} bytes compressed')\n",
        "            dl = 0\n",
        "            data = fileres.read(CHUNK_SIZE)\n",
        "            while len(data) > 0:\n",
        "                dl += len(data)\n",
        "                tfile.write(data)\n",
        "                done = int(50 * dl / int(total_length))\n",
        "                sys.stdout.write(f\"\\r[{'=' * done}{' ' * (50-done)}] {dl} bytes downloaded\")\n",
        "                sys.stdout.flush()\n",
        "                data = fileres.read(CHUNK_SIZE)\n",
        "            if filename.endswith('.zip'):\n",
        "              with ZipFile(tfile) as zfile:\n",
        "                zfile.extractall(destination_path)\n",
        "            else:\n",
        "              with tarfile.open(tfile.name) as tarfile:\n",
        "                tarfile.extractall(destination_path)\n",
        "            print(f'\\nDownloaded and uncompressed: {directory}')\n",
        "    except HTTPError as e:\n",
        "        print(f'Failed to load (likely expired) {download_url} to path {destination_path}')\n",
        "        continue\n",
        "    except OSError as e:\n",
        "        print(f'Failed to load {download_url} to path {destination_path}')\n",
        "        continue\n",
        "\n",
        "print('Data source import complete.')\n"
      ],
      "metadata": {
        "id": "j4M4BX8wOUhU"
      },
      "cell_type": "code",
      "outputs": [],
      "execution_count": null
    },
    {
      "cell_type": "markdown",
      "source": [
        "## Importing the necessary libraries"
      ],
      "metadata": {
        "id": "hYf9BVeHOUhW"
      }
    },
    {
      "cell_type": "code",
      "source": [
        "# This Python 3 environment comes with many helpful analytics libraries installed\n",
        "# It is defined by the kaggle/python Docker image: https://github.com/kaggle/docker-python\n",
        "# For example, here's several helpful packages to load\n",
        "\n",
        "import numpy as np # linear algebra\n",
        "import pandas as pd # data processing, CSV file I/O (e.g. pd.read_csv)\n",
        "\n",
        "# Input data files are available in the read-only \"../input/\" directory\n",
        "# For example, running this (by clicking run or pressing Shift+Enter) will list all files under the input directory\n",
        "\n",
        "import os\n",
        "for dirname, _, filenames in os.walk('/kaggle/input'):\n",
        "    for filename in filenames:\n",
        "        print(os.path.join(dirname, filename))\n",
        "\n",
        "# You can write up to 20GB to the current directory (/kaggle/working/) that gets preserved as output when you create a version using \"Save & Run All\"\n",
        "# You can also write temporary files to /kaggle/temp/, but they won't be saved outside of the current session"
      ],
      "metadata": {
        "_uuid": "8f2839f25d086af736a60e9eeb907d3b93b6e0e5",
        "_cell_guid": "b1076dfc-b9ad-4769-8c92-a6c4dae69d19",
        "execution": {
          "iopub.status.busy": "2023-01-12T16:07:18.520658Z",
          "iopub.execute_input": "2023-01-12T16:07:18.521028Z",
          "iopub.status.idle": "2023-01-12T16:07:18.537878Z",
          "shell.execute_reply.started": "2023-01-12T16:07:18.520997Z",
          "shell.execute_reply": "2023-01-12T16:07:18.536915Z"
        },
        "trusted": true,
        "id": "XN-LL9THOUhX"
      },
      "execution_count": null,
      "outputs": []
    },
    {
      "cell_type": "code",
      "source": [
        "!pip install wget"
      ],
      "metadata": {
        "execution": {
          "iopub.status.busy": "2023-01-12T16:07:18.539733Z",
          "iopub.execute_input": "2023-01-12T16:07:18.540186Z",
          "iopub.status.idle": "2023-01-12T16:07:27.894272Z",
          "shell.execute_reply.started": "2023-01-12T16:07:18.54015Z",
          "shell.execute_reply": "2023-01-12T16:07:27.892888Z"
        },
        "trusted": true,
        "id": "72-HI2LlOUhX"
      },
      "execution_count": null,
      "outputs": []
    },
    {
      "cell_type": "code",
      "source": [
        "import matplotlib.pyplot as plt\n",
        "import seaborn as sns\n",
        "import warnings, wget\n",
        "warnings.filterwarnings('ignore')\n",
        "import tensorflow as tf\n",
        "from tensorflow.keras.layers import Dense, Dropout, Input, Flatten, BatchNormalization\n",
        "from tensorflow.keras.models import Model\n",
        "from tensorflow.keras.optimizers import Adam\n",
        "from tensorflow.keras.metrics import SparseCategoricalAccuracy\n",
        "from tensorflow.keras.callbacks import EarlyStopping, ModelCheckpoint\n",
        "from sklearn.model_selection import train_test_split\n",
        "from sklearn.metrics import classification_report, confusion_matrix\n",
        "from transformers import AutoTokenizer, TFDistilBertForSequenceClassification\n",
        "from tensorflow.keras.utils import plot_model\n",
        "from wordcloud import WordCloud\n",
        "wget.download(\"https://raw.githubusercontent.com/yogawicaksana/helper_prabowo/main/helper_prabowo_ml.py\",out=\"helper_prabowo_ml.py\")\n",
        "from helper_prabowo_ml import clean_html, remove_links, remove_special_characters, removeStopWords, remove_, remove_digits, lower, email_address, non_ascii, punct"
      ],
      "metadata": {
        "execution": {
          "iopub.status.busy": "2023-01-12T16:07:27.900292Z",
          "iopub.execute_input": "2023-01-12T16:07:27.902559Z",
          "iopub.status.idle": "2023-01-12T16:07:32.064669Z",
          "shell.execute_reply.started": "2023-01-12T16:07:27.902518Z",
          "shell.execute_reply": "2023-01-12T16:07:32.0636Z"
        },
        "trusted": true,
        "id": "7ip-z3PjOUhX"
      },
      "execution_count": null,
      "outputs": []
    },
    {
      "cell_type": "code",
      "source": [
        "plt.rcParams['figure.figsize'] = (12,8)"
      ],
      "metadata": {
        "execution": {
          "iopub.status.busy": "2023-01-12T16:07:32.066263Z",
          "iopub.execute_input": "2023-01-12T16:07:32.066662Z",
          "iopub.status.idle": "2023-01-12T16:07:32.072599Z",
          "shell.execute_reply.started": "2023-01-12T16:07:32.066625Z",
          "shell.execute_reply": "2023-01-12T16:07:32.071475Z"
        },
        "trusted": true,
        "id": "UlvgnzN8OUhY"
      },
      "execution_count": null,
      "outputs": []
    },
    {
      "cell_type": "markdown",
      "source": [
        "## Loading the dataset"
      ],
      "metadata": {
        "id": "Evp43bvsOUhY"
      }
    },
    {
      "cell_type": "code",
      "source": [
        "df = pd.read_csv(\"/kaggle/input/updated-resume-dataset/UpdatedResumeDataSet.csv\")\n",
        "df.head()"
      ],
      "metadata": {
        "execution": {
          "iopub.status.busy": "2023-01-12T16:07:32.075729Z",
          "iopub.execute_input": "2023-01-12T16:07:32.076836Z",
          "iopub.status.idle": "2023-01-12T16:07:32.114726Z",
          "shell.execute_reply.started": "2023-01-12T16:07:32.076797Z",
          "shell.execute_reply": "2023-01-12T16:07:32.113623Z"
        },
        "trusted": true,
        "id": "27BuPYEcOUhY"
      },
      "execution_count": null,
      "outputs": []
    },
    {
      "cell_type": "markdown",
      "source": [
        "## Exploratory Data Analysis (EDA)"
      ],
      "metadata": {
        "id": "urMBO3jQOUhY"
      }
    },
    {
      "cell_type": "code",
      "source": [
        "df.shape"
      ],
      "metadata": {
        "execution": {
          "iopub.status.busy": "2023-01-12T16:07:32.116096Z",
          "iopub.execute_input": "2023-01-12T16:07:32.116552Z",
          "iopub.status.idle": "2023-01-12T16:07:32.123065Z",
          "shell.execute_reply.started": "2023-01-12T16:07:32.116517Z",
          "shell.execute_reply": "2023-01-12T16:07:32.122098Z"
        },
        "trusted": true,
        "id": "6iAjLPJTOUhY"
      },
      "execution_count": null,
      "outputs": []
    },
    {
      "cell_type": "code",
      "source": [
        "df.info()"
      ],
      "metadata": {
        "execution": {
          "iopub.status.busy": "2023-01-12T16:07:32.124546Z",
          "iopub.execute_input": "2023-01-12T16:07:32.12515Z",
          "iopub.status.idle": "2023-01-12T16:07:32.140356Z",
          "shell.execute_reply.started": "2023-01-12T16:07:32.125096Z",
          "shell.execute_reply": "2023-01-12T16:07:32.139344Z"
        },
        "trusted": true,
        "id": "9AeapCrROUhY"
      },
      "execution_count": null,
      "outputs": []
    },
    {
      "cell_type": "code",
      "source": [
        "df.isna().sum()"
      ],
      "metadata": {
        "execution": {
          "iopub.status.busy": "2023-01-12T16:07:32.141921Z",
          "iopub.execute_input": "2023-01-12T16:07:32.142593Z",
          "iopub.status.idle": "2023-01-12T16:07:32.150951Z",
          "shell.execute_reply.started": "2023-01-12T16:07:32.142556Z",
          "shell.execute_reply": "2023-01-12T16:07:32.149785Z"
        },
        "trusted": true,
        "id": "QOXRVRM4OUhZ"
      },
      "execution_count": null,
      "outputs": []
    },
    {
      "cell_type": "code",
      "source": [
        "sns.countplot(df.Category)\n",
        "plt.xticks(rotation=90)\n",
        "plt.tight_layout();"
      ],
      "metadata": {
        "execution": {
          "iopub.status.busy": "2023-01-12T16:07:32.1531Z",
          "iopub.execute_input": "2023-01-12T16:07:32.153826Z",
          "iopub.status.idle": "2023-01-12T16:07:32.609028Z",
          "shell.execute_reply.started": "2023-01-12T16:07:32.153786Z",
          "shell.execute_reply": "2023-01-12T16:07:32.608054Z"
        },
        "trusted": true,
        "id": "9bnYH7MPOUhZ"
      },
      "execution_count": null,
      "outputs": []
    },
    {
      "cell_type": "code",
      "source": [
        "print(\"Total number of available jobs:\", df.Category.nunique())"
      ],
      "metadata": {
        "execution": {
          "iopub.status.busy": "2023-01-12T16:07:32.610713Z",
          "iopub.execute_input": "2023-01-12T16:07:32.611087Z",
          "iopub.status.idle": "2023-01-12T16:07:32.617478Z",
          "shell.execute_reply.started": "2023-01-12T16:07:32.611051Z",
          "shell.execute_reply": "2023-01-12T16:07:32.616212Z"
        },
        "trusted": true,
        "id": "4zV8ZqdXOUhZ"
      },
      "execution_count": null,
      "outputs": []
    },
    {
      "cell_type": "code",
      "source": [
        "df['resume_len'] = df.Resume.apply(len)\n",
        "sns.distplot(df.resume_len);"
      ],
      "metadata": {
        "execution": {
          "iopub.status.busy": "2023-01-12T16:07:32.623569Z",
          "iopub.execute_input": "2023-01-12T16:07:32.623917Z",
          "iopub.status.idle": "2023-01-12T16:07:32.911175Z",
          "shell.execute_reply.started": "2023-01-12T16:07:32.623882Z",
          "shell.execute_reply": "2023-01-12T16:07:32.910091Z"
        },
        "trusted": true,
        "id": "KcVtiJ_iOUhZ"
      },
      "execution_count": null,
      "outputs": []
    },
    {
      "cell_type": "code",
      "source": [
        "df.describe()"
      ],
      "metadata": {
        "execution": {
          "iopub.status.busy": "2023-01-12T16:07:32.912568Z",
          "iopub.execute_input": "2023-01-12T16:07:32.913045Z",
          "iopub.status.idle": "2023-01-12T16:07:32.930464Z",
          "shell.execute_reply.started": "2023-01-12T16:07:32.913008Z",
          "shell.execute_reply": "2023-01-12T16:07:32.929283Z"
        },
        "trusted": true,
        "id": "-yhRgWq-OUhZ"
      },
      "execution_count": null,
      "outputs": []
    },
    {
      "cell_type": "code",
      "source": [
        "max_resume_len = 200"
      ],
      "metadata": {
        "execution": {
          "iopub.status.busy": "2023-01-12T16:07:32.932332Z",
          "iopub.execute_input": "2023-01-12T16:07:32.932725Z",
          "iopub.status.idle": "2023-01-12T16:07:32.93765Z",
          "shell.execute_reply.started": "2023-01-12T16:07:32.932687Z",
          "shell.execute_reply": "2023-01-12T16:07:32.936499Z"
        },
        "trusted": true,
        "id": "TlgIThzTOUha"
      },
      "execution_count": null,
      "outputs": []
    },
    {
      "cell_type": "code",
      "source": [
        "wc = WordCloud(width=600,height=300,random_state=101).generate(' '.join(df.Resume))\n",
        "plt.title(label='Word Cloud of Resume Sections',pad=20,fontsize=25,fontweight='bold',color='sienna')\n",
        "plt.imshow(wc);"
      ],
      "metadata": {
        "execution": {
          "iopub.status.busy": "2023-01-12T16:07:32.939535Z",
          "iopub.execute_input": "2023-01-12T16:07:32.940423Z",
          "iopub.status.idle": "2023-01-12T16:07:34.787399Z",
          "shell.execute_reply.started": "2023-01-12T16:07:32.940382Z",
          "shell.execute_reply": "2023-01-12T16:07:34.786486Z"
        },
        "trusted": true,
        "id": "mEClrbcrOUha"
      },
      "execution_count": null,
      "outputs": []
    },
    {
      "cell_type": "markdown",
      "source": [
        "## Encoding the target labels i.e. all available jobs"
      ],
      "metadata": {
        "id": "55JqU-xHOUha"
      }
    },
    {
      "cell_type": "code",
      "source": [
        "labels_dict = {}\n",
        "\n",
        "for idx, label in enumerate(df.Category.unique()):\n",
        "    labels_dict[label] = idx\n",
        "\n",
        "labels_dict"
      ],
      "metadata": {
        "execution": {
          "iopub.status.busy": "2023-01-12T16:07:34.788911Z",
          "iopub.execute_input": "2023-01-12T16:07:34.789562Z",
          "iopub.status.idle": "2023-01-12T16:07:34.80045Z",
          "shell.execute_reply.started": "2023-01-12T16:07:34.789524Z",
          "shell.execute_reply": "2023-01-12T16:07:34.798546Z"
        },
        "trusted": true,
        "id": "yAfRJ-EeOUha"
      },
      "execution_count": null,
      "outputs": []
    },
    {
      "cell_type": "code",
      "source": [
        "df.Category = df.Category.apply(func=lambda x: labels_dict[x])\n",
        "df.Category = df.Category.astype(np.int64)"
      ],
      "metadata": {
        "execution": {
          "iopub.status.busy": "2023-01-12T16:07:34.80212Z",
          "iopub.execute_input": "2023-01-12T16:07:34.802888Z",
          "iopub.status.idle": "2023-01-12T16:07:34.810554Z",
          "shell.execute_reply.started": "2023-01-12T16:07:34.802843Z",
          "shell.execute_reply": "2023-01-12T16:07:34.809401Z"
        },
        "trusted": true,
        "id": "_iuKvmuvOUha"
      },
      "execution_count": null,
      "outputs": []
    },
    {
      "cell_type": "markdown",
      "source": [
        "## Text Preprocessing"
      ],
      "metadata": {
        "id": "xOkPLfzdOUhb"
      }
    },
    {
      "cell_type": "code",
      "source": [
        "def text_preprocess(data,col):\n",
        "    data[col] = data[col].apply(func=clean_html)\n",
        "    data[col] = data[col].apply(func=remove_)\n",
        "    data[col] = data[col].apply(func=removeStopWords)\n",
        "    data[col] = data[col].apply(func=remove_digits)\n",
        "    data[col] = data[col].apply(func=remove_links)\n",
        "    data[col] = data[col].apply(func=remove_special_characters)\n",
        "    data[col] = data[col].apply(func=punct)\n",
        "    data[col] = data[col].apply(func=non_ascii)\n",
        "    data[col] = data[col].apply(func=email_address)\n",
        "    data[col] = data[col].apply(func=lower)\n",
        "    return data"
      ],
      "metadata": {
        "execution": {
          "iopub.status.busy": "2023-01-12T16:07:34.812156Z",
          "iopub.execute_input": "2023-01-12T16:07:34.813555Z",
          "iopub.status.idle": "2023-01-12T16:07:34.821592Z",
          "shell.execute_reply.started": "2023-01-12T16:07:34.813518Z",
          "shell.execute_reply": "2023-01-12T16:07:34.820582Z"
        },
        "trusted": true,
        "id": "Wf3bHfkGOUhb"
      },
      "execution_count": null,
      "outputs": []
    },
    {
      "cell_type": "code",
      "source": [
        "preprocessed_df = text_preprocess(df,'Resume')\n",
        "preprocessed_df.head()"
      ],
      "metadata": {
        "execution": {
          "iopub.status.busy": "2023-01-12T16:07:34.823209Z",
          "iopub.execute_input": "2023-01-12T16:07:34.82373Z",
          "iopub.status.idle": "2023-01-12T16:07:35.664495Z",
          "shell.execute_reply.started": "2023-01-12T16:07:34.82353Z",
          "shell.execute_reply": "2023-01-12T16:07:35.663384Z"
        },
        "trusted": true,
        "id": "DnWQcFhjOUhb"
      },
      "execution_count": null,
      "outputs": []
    },
    {
      "cell_type": "markdown",
      "source": [
        "## Downloading the pretrained tokenizer and DistilBert model"
      ],
      "metadata": {
        "id": "Nzb3NkPXOUhb"
      }
    },
    {
      "cell_type": "code",
      "source": [
        "tokenizer = AutoTokenizer.from_pretrained(\"manishiitg/distilbert-resume-parts-classify\")\n",
        "bert_model = TFDistilBertForSequenceClassification.from_pretrained(\"manishiitg/distilbert-resume-parts-classify\",from_pt=True)"
      ],
      "metadata": {
        "execution": {
          "iopub.status.busy": "2023-01-12T16:07:35.666295Z",
          "iopub.execute_input": "2023-01-12T16:07:35.666699Z",
          "iopub.status.idle": "2023-01-12T16:07:37.498106Z",
          "shell.execute_reply.started": "2023-01-12T16:07:35.666663Z",
          "shell.execute_reply": "2023-01-12T16:07:37.497237Z"
        },
        "trusted": true,
        "id": "qrhkqS0WOUhc"
      },
      "execution_count": null,
      "outputs": []
    },
    {
      "cell_type": "markdown",
      "source": [
        "## Splitting the preprocessed dataset into training and test sets"
      ],
      "metadata": {
        "id": "IvSPNNlfOUhc"
      }
    },
    {
      "cell_type": "code",
      "source": [
        "train_df, test_df = train_test_split(preprocessed_df,test_size=0.3,shuffle=True,random_state=101)"
      ],
      "metadata": {
        "execution": {
          "iopub.status.busy": "2023-01-12T16:07:37.499629Z",
          "iopub.execute_input": "2023-01-12T16:07:37.500227Z",
          "iopub.status.idle": "2023-01-12T16:07:37.508654Z",
          "shell.execute_reply.started": "2023-01-12T16:07:37.500188Z",
          "shell.execute_reply": "2023-01-12T16:07:37.507296Z"
        },
        "trusted": true,
        "id": "qluIQOPXOUhc"
      },
      "execution_count": null,
      "outputs": []
    },
    {
      "cell_type": "markdown",
      "source": [
        "## Text Tokenization"
      ],
      "metadata": {
        "id": "dQlV7Sv5OUhc"
      }
    },
    {
      "cell_type": "code",
      "source": [
        "X_train = tokenizer(text=train_df.Resume.tolist(),\n",
        "                   add_special_tokens=True,\n",
        "                   padding=True,\n",
        "                   truncation=True,\n",
        "                   max_length=max_resume_len,\n",
        "                   return_tensors='tf',\n",
        "                   return_attention_mask=True,\n",
        "                   return_token_type_ids=False,\n",
        "                   verbose=1)\n",
        "\n",
        "X_test = tokenizer(text=test_df.Resume.tolist(),\n",
        "                  add_special_tokens=True,\n",
        "                  padding=True,\n",
        "                  truncation=True,\n",
        "                  max_length=max_resume_len,\n",
        "                  return_tensors='tf',\n",
        "                  return_attention_mask=True,\n",
        "                  return_token_type_ids=False,\n",
        "                  verbose=1)"
      ],
      "metadata": {
        "execution": {
          "iopub.status.busy": "2023-01-12T16:07:37.510464Z",
          "iopub.execute_input": "2023-01-12T16:07:37.510886Z",
          "iopub.status.idle": "2023-01-12T16:07:38.531691Z",
          "shell.execute_reply.started": "2023-01-12T16:07:37.510825Z",
          "shell.execute_reply": "2023-01-12T16:07:38.5307Z"
        },
        "trusted": true,
        "id": "gO92l4xlOUhc"
      },
      "execution_count": null,
      "outputs": []
    },
    {
      "cell_type": "markdown",
      "source": [
        "## Defining the model architecture"
      ],
      "metadata": {
        "id": "LR-k2vsTOUhd"
      }
    },
    {
      "cell_type": "code",
      "source": [
        "input_ids = Input(shape=(max_resume_len,),dtype=tf.int32,name='input_ids')\n",
        "attention_masks = Input(shape=(max_resume_len,),dtype=tf.int32,name='attention_mask')"
      ],
      "metadata": {
        "execution": {
          "iopub.status.busy": "2023-01-12T16:07:38.533377Z",
          "iopub.execute_input": "2023-01-12T16:07:38.533732Z",
          "iopub.status.idle": "2023-01-12T16:07:38.542318Z",
          "shell.execute_reply.started": "2023-01-12T16:07:38.533696Z",
          "shell.execute_reply": "2023-01-12T16:07:38.541315Z"
        },
        "trusted": true,
        "id": "X6vga7nBOUhd"
      },
      "execution_count": null,
      "outputs": []
    },
    {
      "cell_type": "code",
      "source": [
        "word_embeddings = bert_model(input_ids,attention_mask=attention_masks)[0] # 0 --> final hidden state, 1 --> pooling output\n",
        "\n",
        "output = Flatten()(word_embeddings)\n",
        "output = Dense(units=1024,activation='relu')(output)\n",
        "output = BatchNormalization()(output)\n",
        "output = Dropout(0.25)(output)\n",
        "output = Dense(units=512,activation='relu')(output)\n",
        "output = Dropout(0.25)(output)\n",
        "output = Dense(units=256,activation='relu')(output)\n",
        "output = BatchNormalization()(output)\n",
        "output = Dropout(0.25)(output)\n",
        "output = Dense(units=128,activation='relu')(output)\n",
        "output = Dropout(0.25)(output)\n",
        "output = Dense(units=64,activation='relu')(output)\n",
        "output = Dense(units=25,activation='softmax')(output)\n",
        "\n",
        "model = Model(inputs=[input_ids,attention_masks],outputs=output)\n",
        "model.layers"
      ],
      "metadata": {
        "execution": {
          "iopub.status.busy": "2023-01-12T16:07:38.544036Z",
          "iopub.execute_input": "2023-01-12T16:07:38.544736Z",
          "iopub.status.idle": "2023-01-12T16:07:39.513619Z",
          "shell.execute_reply.started": "2023-01-12T16:07:38.544698Z",
          "shell.execute_reply": "2023-01-12T16:07:39.512708Z"
        },
        "trusted": true,
        "id": "e2C6AdtwOUhd"
      },
      "execution_count": null,
      "outputs": []
    },
    {
      "cell_type": "code",
      "source": [
        "model.layers[2].trainable = True"
      ],
      "metadata": {
        "execution": {
          "iopub.status.busy": "2023-01-12T16:07:39.515219Z",
          "iopub.execute_input": "2023-01-12T16:07:39.515556Z",
          "iopub.status.idle": "2023-01-12T16:07:39.522888Z",
          "shell.execute_reply.started": "2023-01-12T16:07:39.515522Z",
          "shell.execute_reply": "2023-01-12T16:07:39.521716Z"
        },
        "trusted": true,
        "id": "AoyPqtSlOUhd"
      },
      "execution_count": null,
      "outputs": []
    },
    {
      "cell_type": "markdown",
      "source": [
        "## Visualizing the model architecture"
      ],
      "metadata": {
        "id": "6o2ZlYUrOUhd"
      }
    },
    {
      "cell_type": "code",
      "source": [
        "model.summary()"
      ],
      "metadata": {
        "execution": {
          "iopub.status.busy": "2023-01-12T16:07:39.524691Z",
          "iopub.execute_input": "2023-01-12T16:07:39.52508Z",
          "iopub.status.idle": "2023-01-12T16:07:39.542423Z",
          "shell.execute_reply.started": "2023-01-12T16:07:39.525045Z",
          "shell.execute_reply": "2023-01-12T16:07:39.541406Z"
        },
        "trusted": true,
        "id": "8lFYt1L2OUhd"
      },
      "execution_count": null,
      "outputs": []
    },
    {
      "cell_type": "code",
      "source": [
        "plot_model(model,to_file='model.png',dpi=100,show_shapes=True)"
      ],
      "metadata": {
        "execution": {
          "iopub.status.busy": "2023-01-12T16:07:39.544017Z",
          "iopub.execute_input": "2023-01-12T16:07:39.54438Z",
          "iopub.status.idle": "2023-01-12T16:07:40.002356Z",
          "shell.execute_reply.started": "2023-01-12T16:07:39.544345Z",
          "shell.execute_reply": "2023-01-12T16:07:40.001121Z"
        },
        "trusted": true,
        "id": "aeyRvBjXOUhe"
      },
      "execution_count": null,
      "outputs": []
    },
    {
      "cell_type": "markdown",
      "source": [
        "## Compiling the model"
      ],
      "metadata": {
        "id": "J4MDSW--OUhe"
      }
    },
    {
      "cell_type": "code",
      "source": [
        "adam = Adam(learning_rate=5e-5,\n",
        "           epsilon=2e-8,\n",
        "           decay=0.01,\n",
        "           clipnorm=1.0)\n",
        "\n",
        "model.compile(loss='sparse_categorical_crossentropy',optimizer=adam,metrics=SparseCategoricalAccuracy('balanced_accuracy'))"
      ],
      "metadata": {
        "execution": {
          "iopub.status.busy": "2023-01-12T16:07:40.004403Z",
          "iopub.execute_input": "2023-01-12T16:07:40.004977Z",
          "iopub.status.idle": "2023-01-12T16:07:40.023812Z",
          "shell.execute_reply.started": "2023-01-12T16:07:40.004939Z",
          "shell.execute_reply": "2023-01-12T16:07:40.02296Z"
        },
        "trusted": true,
        "id": "egQY5jD_OUhe"
      },
      "execution_count": null,
      "outputs": []
    },
    {
      "cell_type": "markdown",
      "source": [
        "## Training the fine-tuned Distil-Bert model"
      ],
      "metadata": {
        "id": "9FwROQtBOUhu"
      }
    },
    {
      "cell_type": "code",
      "source": [
        "es = EarlyStopping(monitor='val_balanced_accuracy',patience=250,verbose=1,mode='max',restore_best_weights=True)\n",
        "mc = ModelCheckpoint('resume_parser.h5',monitor='val_balanced_accuracy',mode='max',verbose=1,save_best_only=True)\n",
        "\n",
        "r = model.fit(x={'input_ids': X_train['input_ids'], 'attention_mask': X_train['attention_mask']},\n",
        "             y=train_df.Category,\n",
        "             epochs=500,\n",
        "             batch_size=32,\n",
        "             callbacks=[es,mc],\n",
        "             validation_data=({'input_ids': X_test['input_ids'], 'attention_mask': X_test['attention_mask']},test_df.Category))"
      ],
      "metadata": {
        "execution": {
          "iopub.status.busy": "2023-01-12T16:07:40.026645Z",
          "iopub.execute_input": "2023-01-12T16:07:40.02692Z",
          "iopub.status.idle": "2023-01-12T17:00:32.875271Z",
          "shell.execute_reply.started": "2023-01-12T16:07:40.026895Z",
          "shell.execute_reply": "2023-01-12T17:00:32.874189Z"
        },
        "trusted": true,
        "id": "cutk6ja0OUhu"
      },
      "execution_count": null,
      "outputs": []
    },
    {
      "cell_type": "markdown",
      "source": [
        "## Visualizing the model performance"
      ],
      "metadata": {
        "id": "wgIq5CPDOUhu"
      }
    },
    {
      "cell_type": "code",
      "source": [
        "plt.plot(r.history['loss'],'r',label='train loss')\n",
        "plt.plot(r.history['val_loss'],'b',label='test loss')\n",
        "plt.xlabel('No. of Epochs')\n",
        "plt.ylabel('Categorical Crossentropy Loss')\n",
        "plt.title('Loss Graph')\n",
        "plt.legend();"
      ],
      "metadata": {
        "execution": {
          "iopub.status.busy": "2023-01-12T17:00:32.8811Z",
          "iopub.execute_input": "2023-01-12T17:00:32.881405Z",
          "iopub.status.idle": "2023-01-12T17:00:33.143032Z",
          "shell.execute_reply.started": "2023-01-12T17:00:32.881377Z",
          "shell.execute_reply": "2023-01-12T17:00:33.142035Z"
        },
        "trusted": true,
        "id": "LfPkTw1BOUhv"
      },
      "execution_count": null,
      "outputs": []
    },
    {
      "cell_type": "code",
      "source": [
        "plt.plot(r.history['balanced_accuracy'],'r',label='train accuracy')\n",
        "plt.plot(r.history['val_balanced_accuracy'],'b',label='test accuracy')\n",
        "plt.xlabel('Number of Epochs')\n",
        "plt.ylabel('Balanced Categorical Accuracy')\n",
        "plt.title('Accuracy Graph')\n",
        "plt.legend();"
      ],
      "metadata": {
        "execution": {
          "iopub.status.busy": "2023-01-12T17:00:33.144663Z",
          "iopub.execute_input": "2023-01-12T17:00:33.145301Z",
          "iopub.status.idle": "2023-01-12T17:00:33.394815Z",
          "shell.execute_reply.started": "2023-01-12T17:00:33.145263Z",
          "shell.execute_reply": "2023-01-12T17:00:33.393981Z"
        },
        "trusted": true,
        "id": "yMla6OogOUhv"
      },
      "execution_count": null,
      "outputs": []
    },
    {
      "cell_type": "markdown",
      "source": [
        "## Model Evaluation"
      ],
      "metadata": {
        "id": "b2C01l2IOUhv"
      }
    },
    {
      "cell_type": "code",
      "source": [
        "loss, acc = model.evaluate({'input_ids': X_test['input_ids'], 'attention_mask': X_test['attention_mask']},test_df.Category)\n",
        "print(\"Test Sparse Categorical Crossentropy Loss:\", loss)\n",
        "print(\"Test Balanced Categorical Accuracy:\", acc)"
      ],
      "metadata": {
        "execution": {
          "iopub.status.busy": "2023-01-12T17:00:33.396189Z",
          "iopub.execute_input": "2023-01-12T17:00:33.396514Z",
          "iopub.status.idle": "2023-01-12T17:00:35.362737Z",
          "shell.execute_reply.started": "2023-01-12T17:00:33.396481Z",
          "shell.execute_reply": "2023-01-12T17:00:35.361796Z"
        },
        "trusted": true,
        "id": "nJ4hgttPOUhv"
      },
      "execution_count": null,
      "outputs": []
    },
    {
      "cell_type": "code",
      "source": [
        "test_predictions = model.predict({'input_ids': X_test['input_ids'], 'attention_mask': X_test['attention_mask']})\n",
        "test_predictions = np.argmax(test_predictions,axis=1)\n",
        "test_predictions"
      ],
      "metadata": {
        "execution": {
          "iopub.status.busy": "2023-01-12T17:00:35.36439Z",
          "iopub.execute_input": "2023-01-12T17:00:35.364761Z",
          "iopub.status.idle": "2023-01-12T17:00:38.551196Z",
          "shell.execute_reply.started": "2023-01-12T17:00:35.364724Z",
          "shell.execute_reply": "2023-01-12T17:00:38.550086Z"
        },
        "trusted": true,
        "id": "P9ZI1i5tOUhv"
      },
      "execution_count": null,
      "outputs": []
    },
    {
      "cell_type": "code",
      "source": [
        "print(\"Confusion Matrix:\")\n",
        "print(confusion_matrix(test_df.Category,test_predictions))\n",
        "print(\"Classification Report:\")\n",
        "print(classification_report(test_df.Category,test_predictions))"
      ],
      "metadata": {
        "execution": {
          "iopub.status.busy": "2023-01-12T17:00:38.554324Z",
          "iopub.execute_input": "2023-01-12T17:00:38.554619Z",
          "iopub.status.idle": "2023-01-12T17:00:38.570582Z",
          "shell.execute_reply.started": "2023-01-12T17:00:38.554592Z",
          "shell.execute_reply": "2023-01-12T17:00:38.569577Z"
        },
        "trusted": true,
        "id": "t8F8dA6UOUhw"
      },
      "execution_count": null,
      "outputs": []
    },
    {
      "cell_type": "markdown",
      "source": [
        "This is absolutely incredible! The fine-tuned Distil-Bert model has produced an astonishing accuracy score of more than 99% on the test set."
      ],
      "metadata": {
        "id": "TvTCAFJsOUhw"
      }
    }
  ]
}